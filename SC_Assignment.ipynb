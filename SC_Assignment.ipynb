{
  "cells": [
    {
      "cell_type": "markdown",
      "metadata": {
        "id": "ii0lCRnnZuUf"
      },
      "source": [
        "# **GENETIC ALGORITHM**"
      ]
    },
    {
      "cell_type": "markdown",
      "metadata": {
        "id": "xIN-1ua6smgA"
      },
      "source": [
        "You need to prepare a pdf document having  either the review of any three journal on Genetic algorithm or the coding and running screenshots for genetic algorithm with any selction, cross over and mutation methods."
      ]
    },
    {
      "cell_type": "markdown",
      "metadata": {
        "id": "DkWQ8RbfjjR8"
      },
      "source": [
        "## **Roulette Selection, Weighted Average Crossover, Random Uniform Mutation Method**"
      ]
    },
    {
      "cell_type": "code",
      "execution_count": null,
      "metadata": {
        "colab": {
          "base_uri": "https://localhost:8080/"
        },
        "id": "IftevudjV1kU",
        "outputId": "a98da646-fbf2-4f43-ad48-2b5ba3a46d54"
      },
      "outputs": [
        {
          "name": "stdout",
          "output_type": "stream",
          "text": [
            "population size : 6\n",
            "mutation rate : 0.2\n",
            "generation : 3\n",
            "Enter initial population\n",
            "12\n",
            "13\n",
            "14\n",
            "11\n",
            "9\n",
            "7\n",
            "Best individual: 12.51698622587459\n",
            "Best fitness: 21.883464259750347\n"
          ]
        }
      ],
      "source": [
        "import random\n",
        "\n",
        "# own function\n",
        "def fitness_function(x):\n",
        "    return (-x**2/10)+(3*x)\n",
        "\n",
        "# get inputs for genetic algorithm\n",
        "population_size = int(input(\"population size : \"))\n",
        "mutation_rate = float(input(\"mutation rate : \"))\n",
        "generations = int(input(\"generation : \"))\n",
        "search_range = (-10, 10)\n",
        "\n",
        "population=[]\n",
        "print(\"Enter initial population :-\")\n",
        "for i in range(population_size):\n",
        "  a = int(input())\n",
        "  population.append(a)\n",
        "\n",
        "# genetic algorithm\n",
        "for generation in range(generations):\n",
        "    # fitness score for each individual\n",
        "    fitness_scores = [fitness_function(individual) for individual in population]\n",
        "\n",
        "    # selecting parents based on fitness scores\n",
        "    parents = random.choices(population, weights=fitness_scores, k=population_size)\n",
        "\n",
        "    # selection done, now crossover and mutation\n",
        "    next_generation = []\n",
        "    for _ in range(population_size):\n",
        "        parent1, parent2 = random.choices(parents, k=2)\n",
        "\n",
        "        # crossover\n",
        "        crossover_point = random.uniform(search_range[0], search_range[1])\n",
        "        child = (parent1 + parent2) / 2\n",
        "\n",
        "        # mutation\n",
        "        if random.random() < mutation_rate:\n",
        "            mutation = random.uniform(-0.1, 0.1)\n",
        "            child += mutation\n",
        "\n",
        "        next_generation.append(child)\n",
        "\n",
        "    # new generation is the curr population\n",
        "    population = next_generation\n",
        "\n",
        "# select the best individual population from selected\n",
        "best_individual = max(population, key=fitness_function)\n",
        "best_fitness = fitness_function(best_individual)\n",
        "\n",
        "print(f\"Best individual: {best_individual}\")\n",
        "print(f\"Best fitness: {best_fitness}\")\n"
      ]
    },
    {
      "cell_type": "markdown",
      "metadata": {
        "id": "QH_iTSAMlVCw"
      },
      "source": [
        "## **Roulette Wheel Selection, Single point crossover, Random Mutation**  (usage of mutation rate)"
      ]
    },
    {
      "cell_type": "code",
      "execution_count": null,
      "metadata": {
        "colab": {
          "base_uri": "https://localhost:8080/"
        },
        "id": "MkJFw4NKEMEe",
        "outputId": "1318b519-94c3-4f44-f1d4-f44421236626"
      },
      "outputs": [
        {
          "name": "stdout",
          "output_type": "stream",
          "text": [
            "Population size: 6\n",
            "Mutation rate: 0.1\n",
            "Generations: 3\n",
            "Enter initial population:\n",
            "1\n",
            "2\n",
            "3\n",
            "4\n",
            "5\n",
            "6\n",
            "Best individual: 6.0\n",
            "Best fitness: 14.4\n"
          ]
        }
      ],
      "source": [
        "# same code small differences\n",
        "import random\n",
        "\n",
        "# Define the fitness function\n",
        "def fitness_function(x):\n",
        "    return (-x**2/10) + (3*x)\n",
        "\n",
        "# Get inputs for genetic algorithm\n",
        "population_size = int(input(\"Population size: \"))\n",
        "mutation_rate = float(input(\"Mutation rate: \"))\n",
        "generations = int(input(\"Generations: \"))\n",
        "search_range = (-10, 10)\n",
        "\n",
        "# Initialize the population with user input\n",
        "print(\"Enter initial population:\")\n",
        "population = []\n",
        "for i in range(population_size):\n",
        "    a = float(input())\n",
        "    population.append(a)\n",
        "\n",
        "# Genetic algorithm\n",
        "for generation in range(generations):\n",
        "    # Calculate fitness scores for each individual\n",
        "    fitness_scores = [fitness_function(individual) for individual in population]\n",
        "\n",
        "    # Select parents based on fitness scores using roulette wheel selection\n",
        "    parents = random.choices(population, weights=fitness_scores, k=population_size)\n",
        "\n",
        "    # Create the next generation\n",
        "    next_generation = []\n",
        "    for _ in range(population_size):\n",
        "        parent1, parent2 = random.choices(parents, k=2)\n",
        "\n",
        "        # Crossover\n",
        "        crossover_point = random.uniform(search_range[0], search_range[1])\n",
        "        child = (parent1 + parent2) / 2\n",
        "\n",
        "        # Mutation\n",
        "        if random.random() < mutation_rate:\n",
        "            mutation = random.uniform(-0.1, 0.1)\n",
        "            child += mutation\n",
        "\n",
        "        # Ensure the child is within the search range\n",
        "        child = min(max(child, search_range[0]), search_range[1])\n",
        "\n",
        "        next_generation.append(child)\n",
        "\n",
        "    # Update the population with the new generation\n",
        "    population = next_generation\n",
        "\n",
        "# Select the best individual from the final population\n",
        "best_individual = max(population, key=fitness_function)\n",
        "best_fitness = fitness_function(best_individual)\n",
        "\n",
        "print(f\"Best individual: {best_individual}\")\n",
        "print(f\"Best fitness: {best_fitness}\")\n"
      ]
    },
    {
      "cell_type": "markdown",
      "metadata": {
        "id": "aCNrIyOQluHK"
      },
      "source": [
        "## **Roulette Selection , shuffle crossover, random uniform mutation**"
      ]
    },
    {
      "cell_type": "code",
      "execution_count": null,
      "metadata": {
        "colab": {
          "base_uri": "https://localhost:8080/"
        },
        "id": "yZB1Wew9flS3",
        "outputId": "c0f24ba0-18f1-419f-de0a-7c05f78e3337"
      },
      "outputs": [
        {
          "name": "stdout",
          "output_type": "stream",
          "text": [
            "Population size: 6\n",
            "Mutation rate: 0.1\n",
            "Generations: 3\n",
            "Best individual: 5.645077336587095\n",
            "Best fitness: 13.748542196156361\n"
          ]
        }
      ],
      "source": [
        "import random\n",
        "\n",
        "# Define the target function to be maximized (you can replace this with your own function)\n",
        "def fitness_function(x):\n",
        "    return (-x**2/10) + (3*x)\n",
        "\n",
        "# Get inputs for genetic algorithm\n",
        "population_size = int(input(\"Population size: \"))\n",
        "mutation_rate = float(input(\"Mutation rate: \"))\n",
        "generations = int(input(\"Generations: \"))\n",
        "\n",
        "# Check if the population size is greater than zero\n",
        "if population_size <= 0:\n",
        "    print(\"Population size must be greater than zero.\")\n",
        "    exit()\n",
        "\n",
        "# Genetic Algorithm Initialization\n",
        "population = [random.uniform(search_range[0], search_range[1]) for _ in range(population_size)]\n",
        "\n",
        "# Genetic Algorithm\n",
        "for generation in range(generations):\n",
        "    # Fitness score for each individual\n",
        "    fitness_scores = [fitness_function(individual) for individual in population]\n",
        "\n",
        "    # Check if all fitness scores are zero (avoid \"Total of weights must be greater than zero\" error)\n",
        "    if all(score == 0 for score in fitness_scores):\n",
        "        print(\"All fitness scores are zero. Exiting the algorithm.\")\n",
        "        exit()\n",
        "\n",
        "    # Selecting parents based on fitness scores\n",
        "    parents = random.choices(population, weights=fitness_scores, k=population_size)\n",
        "\n",
        "    # Selection done, now shuffle crossover and mutation\n",
        "    next_generation = []\n",
        "    for _ in range(population_size):\n",
        "        parent1, parent2 = random.choices(parents, k=2)\n",
        "\n",
        "        # Shuffle Crossover\n",
        "        crossover_point = random.uniform(search_range[0], search_range[1])\n",
        "        child = (parent1 + parent2) / 2\n",
        "\n",
        "        # Mutation\n",
        "        if random.random() < mutation_rate:\n",
        "            mutation = random.uniform(-0.1, 0.1)\n",
        "            child += mutation\n",
        "\n",
        "        next_generation.append(child)\n",
        "\n",
        "    # new generation is the curr population\n",
        "    population = next_generation\n",
        "\n",
        "# Select the best individual from the final population\n",
        "best_individual = max(population, key=fitness_function)\n",
        "best_fitness = fitness_function(best_individual)\n",
        "\n",
        "print(f\"Best individual: {best_individual}\")\n",
        "print(f\"Best fitness: {best_fitness}\")\n"
      ]
    },
    {
      "cell_type": "markdown",
      "metadata": {
        "id": "Haft_wb-l54B"
      },
      "source": [
        "## **Tournament selection, Multipoint crossover, flipping mutation**"
      ]
    },
    {
      "cell_type": "code",
      "execution_count": null,
      "metadata": {
        "colab": {
          "base_uri": "https://localhost:8080/"
        },
        "id": "6jiW69v7WB79",
        "outputId": "0f305bf6-7c1a-4695-ed9e-8cfa1dc6c9f1"
      },
      "outputs": [
        {
          "name": "stdout",
          "output_type": "stream",
          "text": [
            "Population size : 7\n",
            "mutation rate : (0-1)0.1\n",
            "generations : 4\n",
            "Length of binary chromosome : 10\n",
            "Tournament size for selection : 5\n",
            "Crossover point 1 : 3\n",
            "Crossover point 2 : 6\n",
            "Best individual: [1, 1, 1, 1, 0, 1, 1, 1, 1, 1]\n",
            "Best fitness: 9\n"
          ]
        }
      ],
      "source": [
        "import random\n",
        "def fitness_function(chromosome):\n",
        "    return sum(chromosome)\n",
        "\n",
        "# Genetic Algorithm Parameters\n",
        "population_size = int(input(\"Population size : \"))\n",
        "mutation_rate = float(input(\"mutation rate : (0-1)\"))\n",
        "generations = int(input(\"generations : \"))\n",
        "chromosome_length = int(input(\"Length of binary chromosome : \"))\n",
        "tournament_size = int(input(\"Tournament size for selection : \"))\n",
        "cr = []\n",
        "a = int(input(\"Crossover point 1 : \"))\n",
        "b = int(input(\"Crossover point 2 : \"))\n",
        "cr.append(a)\n",
        "cr.append(b)\n",
        "crossover_points = cr\n",
        "\n",
        "# initialization\n",
        "def create_individual():\n",
        "    return [random.randint(0, 1) for _ in range(chromosome_length)]\n",
        "\n",
        "population = [create_individual() for _ in range(population_size)]\n",
        "\n",
        "# GA algorithm\n",
        "for generation in range(generations):\n",
        "    # Evaluate fitness for each individual in the population\n",
        "    fitness_scores = [fitness_function(chromosome) for chromosome in population]\n",
        "\n",
        "    next_generation = []\n",
        "    for _ in range(population_size):\n",
        "        # Tournament Selection\n",
        "        tournament = random.sample(range(population_size), tournament_size)\n",
        "        tournament_fitness = [fitness_scores[i] for i in tournament]\n",
        "        best_index = tournament[tournament_fitness.index(max(tournament_fitness))]\n",
        "        parent1 = population[best_index]\n",
        "\n",
        "        tournament.remove(best_index)\n",
        "        tournament_fitness.remove(max(tournament_fitness))\n",
        "\n",
        "        best_index = tournament[tournament_fitness.index(max(tournament_fitness))]\n",
        "        parent2 = population[best_index]\n",
        "\n",
        "        # Crossover\n",
        "        child = []\n",
        "        crossover_points.sort()\n",
        "        prev_crossover = 0\n",
        "        for crossover in crossover_points:\n",
        "            child += parent1[prev_crossover:crossover]\n",
        "            parent1, parent2 = parent2, parent1\n",
        "            prev_crossover = crossover\n",
        "        child += parent1[prev_crossover:]\n",
        "\n",
        "        # Flipping Mutation\n",
        "        for i in range(len(child)):\n",
        "            if random.random() < mutation_rate:\n",
        "                child[i] = 1 - child[i]  # Flipping 0 to 1 or 1 to 0\n",
        "\n",
        "        next_generation.append(child)\n",
        "\n",
        "    # new generation is the curr population\n",
        "    population = next_generation\n",
        "\n",
        "# Find the best individual in the final population\n",
        "best_individual = max(population, key=fitness_function)\n",
        "best_fitness = fitness_function(best_individual)\n",
        "\n",
        "print(f\"Best individual: {best_individual}\")\n",
        "print(f\"Best fitness: {best_fitness}\")\n"
      ]
    },
    {
      "cell_type": "markdown",
      "metadata": {
        "id": "5nUFvEtxcYID"
      },
      "source": [
        "REFERENCES :\n",
        "\n",
        "*   https://machinelearningmastery.com/simple-genetic-algorithm-from-scratch-in-python/\n",
        "*   https://www.tutorialspoint.com/genetic_algorithms/genetic_algorithms_parent_selection.htm\n",
        "*   https://medium.datadriveninvestor.com/genetic-algorithms-selection-5634cfc45d78\n",
        "*   https://medium.com/geekculture/crossover-operators-in-ga-cffa77cdd0c8\n",
        "*   https://www.tutorialspoint.com/genetic_algorithms/genetic_algorithms_mutation.htm\n"
      ]
    },
    {
      "cell_type": "markdown",
      "metadata": {
        "id": "5outitmnm70d"
      },
      "source": [
        "# **Trying to implement GA in breast cancer dataset using journal article reference**"
      ]
    },
    {
      "cell_type": "markdown",
      "metadata": {
        "id": "qViJbMrbnJmJ"
      },
      "source": [
        "## **Tournament Selection, 2 point crossover, bit flip mutation as used in the journal paper**"
      ]
    },
    {
      "cell_type": "code",
      "execution_count": null,
      "metadata": {
        "colab": {
          "base_uri": "https://localhost:8080/"
        },
        "id": "grwuARxacZiM",
        "outputId": "5e0e459d-b92e-46df-dd2a-d9242c84bccc"
      },
      "outputs": [
        {
          "name": "stdout",
          "output_type": "stream",
          "text": [
            "Collecting deap\n",
            "  Downloading deap-1.4.1-cp310-cp310-manylinux_2_5_x86_64.manylinux1_x86_64.manylinux_2_17_x86_64.manylinux2014_x86_64.whl (135 kB)\n",
            "\u001b[2K     \u001b[90m━━━━━━━━━━━━━━━━━━━━━━━━━━━━━━━━━━━━━━━\u001b[0m \u001b[32m135.4/135.4 kB\u001b[0m \u001b[31m2.6 MB/s\u001b[0m eta \u001b[36m0:00:00\u001b[0m\n",
            "\u001b[?25hRequirement already satisfied: numpy in /usr/local/lib/python3.10/dist-packages (from deap) (1.23.5)\n",
            "Installing collected packages: deap\n",
            "Successfully installed deap-1.4.1\n",
            "gen\tnevals\n",
            "0  \t50    \n",
            "1  \t38    \n",
            "2  \t35    \n",
            "3  \t40    \n",
            "4  \t32    \n",
            "5  \t46    \n",
            "6  \t33    \n",
            "7  \t37    \n",
            "8  \t35    \n",
            "9  \t45    \n",
            "10 \t36    \n",
            "Best Individual: [1, 0, 1, 1, 1, 1, 0, 0, 1, 0, 1, 1, 0, 0, 1, 0, 0, 1, 0, 1, 0, 0, 1, 1, 1, 0, 0, 0, 0, 0]\n",
            "Test Accuracy: 1.0\n"
          ]
        }
      ],
      "source": [
        "# tournament, 2point crossover, bitflip mutation\n",
        "!pip install deap\n",
        "import random\n",
        "import numpy as np\n",
        "from sklearn.datasets import load_breast_cancer\n",
        "from sklearn.model_selection import train_test_split\n",
        "from sklearn.ensemble import RandomForestClassifier\n",
        "from sklearn.metrics import accuracy_score\n",
        "from deap import base, creator, tools, algorithms\n",
        "\n",
        "# Load the breast cancer dataset (inbuilt dataset)\n",
        "data = load_breast_cancer()\n",
        "X, y = data.data, data.target\n",
        "\n",
        "# Split the data into training and testing sets\n",
        "X_train, X_test, y_train, y_test = train_test_split(X, y, test_size=0.2, random_state=42)\n",
        "\n",
        "def evaluate(individual):\n",
        "    selected_features = [bool(bit) for bit in individual]\n",
        "    if sum(selected_features) == 0:\n",
        "        return 0.0,\n",
        "    X_train_selected = X_train[:, selected_features]\n",
        "    X_test_selected = X_test[:, selected_features]\n",
        "\n",
        "    classifier = RandomForestClassifier(n_estimators=100, random_state=42)\n",
        "    classifier.fit(X_train_selected, y_train)\n",
        "    y_pred = classifier.predict(X_test_selected)\n",
        "\n",
        "    accuracy = accuracy_score(y_test, y_pred)\n",
        "    return accuracy,\n",
        "\n",
        "# Create the DEAP toolbox\n",
        "creator.create(\"FitnessMax\", base.Fitness, weights=(1.0,))\n",
        "creator.create(\"Individual\", list, fitness=creator.FitnessMax)\n",
        "\n",
        "toolbox = base.Toolbox()\n",
        "toolbox.register(\"attr_bool\", random.randint, 0, 1)\n",
        "toolbox.register(\"individual\", tools.initRepeat, creator.Individual, toolbox.attr_bool, n=len(data.feature_names))\n",
        "toolbox.register(\"population\", tools.initRepeat, list, toolbox.individual)\n",
        "\n",
        "toolbox.register(\"evaluate\", evaluate)\n",
        "toolbox.register(\"mate\", tools.cxTwoPoint)\n",
        "toolbox.register(\"mutate\", tools.mutFlipBit, indpb=0.05)\n",
        "toolbox.register(\"select\", tools.selTournament, tournsize=3)\n",
        "\n",
        "# Create the population and run the genetic algorithm\n",
        "population = toolbox.population(n=50)\n",
        "algorithms.eaSimple(population, toolbox, cxpb=0.7, mutpb=0.2, ngen=10, verbose=True)\n",
        "\n",
        "# Find the best individual and evaluate it on the test set\n",
        "best_individual = tools.selBest(population, k=1)[0]\n",
        "selected_features = [bool(bit) for bit in best_individual]\n",
        "X_train_selected = X_train[:, selected_features]\n",
        "X_test_selected = X_test[:, selected_features]\n",
        "\n",
        "classifier = RandomForestClassifier(n_estimators=100, random_state=42)\n",
        "classifier.fit(X_train_selected, y_train)\n",
        "y_pred = classifier.predict(X_test_selected)\n",
        "\n",
        "accuracy = accuracy_score(y_test, y_pred)\n",
        "print(\"Best Individual:\", best_individual)\n",
        "print(\"Test Accuracy:\", accuracy)\n"
      ]
    },
    {
      "cell_type": "markdown",
      "metadata": {
        "id": "zbdf1HmNKt51"
      },
      "source": [
        "https://www.researchgate.net/publication/311512876_Genetic_algorithms_combined_with_SVM_for_breast_cancer_diagnosis#fullTextFileContent"
      ]
    },
    {
      "cell_type": "code",
      "execution_count": null,
      "metadata": {
        "id": "NF-btVuHIG5H"
      },
      "outputs": [],
      "source": []
    }
  ],
  "metadata": {
    "colab": {
      "provenance": []
    },
    "kernelspec": {
      "display_name": "Python 3",
      "name": "python3"
    },
    "language_info": {
      "name": "python"
    }
  },
  "nbformat": 4,
  "nbformat_minor": 0
}
